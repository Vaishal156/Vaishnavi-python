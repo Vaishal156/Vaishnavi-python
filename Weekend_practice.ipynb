{
 "cells": [
  {
   "cell_type": "code",
   "execution_count": 1,
   "id": "336e8386",
   "metadata": {},
   "outputs": [
    {
     "name": "stdout",
     "output_type": "stream",
     "text": [
      "1\n",
      "2\n",
      "3\n",
      "4\n",
      "5\n",
      "6\n",
      "7\n",
      "8\n",
      "9\n",
      "10\n"
     ]
    }
   ],
   "source": [
    "# Print First 10 natural numbers using while loop\n",
    "i=1\n",
    "while i<=10:\n",
    "    print(i)\n",
    "    i=i+1\n",
    "    "
   ]
  },
  {
   "cell_type": "code",
   "execution_count": 1,
   "id": "43a10918",
   "metadata": {},
   "outputs": [
    {
     "name": "stdout",
     "output_type": "stream",
     "text": [
      "1 \n",
      "1 2 \n",
      "1 2 3 \n",
      "1 2 3 4 \n"
     ]
    }
   ],
   "source": [
    "# Write a program to print the following number pattern using a loop\n",
    "# 1 \n",
    "# 1 2 \n",
    "# 1 2 3 \n",
    "# 1 2 3 4 \n",
    "# 1 2 3 4 5\n",
    "for i in range(1,5):\n",
    "    for j in range(1, i+1):\n",
    "        print(j,end=' ')\n",
    "        \n",
    "    print(\"\")"
   ]
  },
  {
   "cell_type": "code",
   "execution_count": 16,
   "id": "269e9f1d",
   "metadata": {},
   "outputs": [
    {
     "name": "stdout",
     "output_type": "stream",
     "text": [
      "Enter the number:10\n",
      "Sum of all numbers is : 55\n"
     ]
    }
   ],
   "source": [
    "# Calculate the sum of all numbers from 1 to a given number\n",
    "num=int(input('Enter the number:'))\n",
    "res=0\n",
    "for i in range(1,num+1):\n",
    "    res=res+i\n",
    "    \n",
    "print('Sum of all numbers is :', res)"
   ]
  },
  {
   "cell_type": "code",
   "execution_count": 18,
   "id": "dfd3abf2",
   "metadata": {},
   "outputs": [
    {
     "name": "stdout",
     "output_type": "stream",
     "text": [
      "Enter the number:2\n",
      "2\n",
      "4\n",
      "6\n",
      "8\n",
      "10\n",
      "12\n",
      "14\n",
      "16\n",
      "18\n",
      "20\n"
     ]
    }
   ],
   "source": [
    "# Write a program to print multiplication table of a given number\n",
    "num=int(input('Enter the number:'))\n",
    "res=1\n",
    "for i in range(1,11):\n",
    "    res=num*i\n",
    "    print(res)"
   ]
  },
  {
   "cell_type": "code",
   "execution_count": 21,
   "id": "227dc469",
   "metadata": {},
   "outputs": [
    {
     "name": "stdout",
     "output_type": "stream",
     "text": [
      "Enter the number:1234567\n",
      "7\n"
     ]
    }
   ],
   "source": [
    "# Count the total number of digits in a number\n",
    "count=0\n",
    "number=int(input('Enter the number:'))\n",
    "while number!=0:\n",
    "    number=number//10\n",
    "    count=count+1\n",
    "print(count)"
   ]
  },
  {
   "cell_type": "code",
   "execution_count": 32,
   "id": "4feea8c9",
   "metadata": {},
   "outputs": [
    {
     "name": "stdout",
     "output_type": "stream",
     "text": [
      "5 4 3 2 1 \n",
      "4 3 2 1 \n",
      "3 2 1 \n",
      "2 1 \n",
      "1 \n",
      "\n"
     ]
    }
   ],
   "source": [
    "# Write a program to use for loop to print the following reverse number pattern\n",
    "\n",
    "# 5 4 3 2 1 \n",
    "# 4 3 2 1 \n",
    "# 3 2 1 \n",
    "# 2 1 \n",
    "# 1\n",
    "# k=5\n",
    "for i in range(0,6):\n",
    "    for j in range(5-i,0,-1):\n",
    "        print(j,end=' ')\n",
    "    print(end=\"\\n\")"
   ]
  },
  {
   "cell_type": "code",
   "execution_count": 33,
   "id": "122ec7d5",
   "metadata": {},
   "outputs": [
    {
     "name": "stdout",
     "output_type": "stream",
     "text": [
      "-10\n",
      "-9\n",
      "-8\n",
      "-7\n",
      "-6\n",
      "-5\n",
      "-4\n",
      "-3\n",
      "-2\n",
      "-1\n"
     ]
    }
   ],
   "source": [
    "# Display numbers from -10 to -1 using for loop\n",
    "\n",
    "num=-10\n",
    "for i in range(num,0):\n",
    "    print(i)"
   ]
  },
  {
   "cell_type": "code",
   "execution_count": 34,
   "id": "1f20b922",
   "metadata": {},
   "outputs": [
    {
     "name": "stdout",
     "output_type": "stream",
     "text": [
      "0\n",
      "1\n",
      "2\n",
      "3\n",
      "4\n",
      "Done\n"
     ]
    }
   ],
   "source": [
    "# Use else block to display a message “Done” after successful execution of for loop\n",
    "for i in range(5):\n",
    "    print(i)\n",
    "else:\n",
    "    print('Done')"
   ]
  },
  {
   "cell_type": "code",
   "execution_count": 41,
   "id": "ca1b9051",
   "metadata": {},
   "outputs": [
    {
     "name": "stdout",
     "output_type": "stream",
     "text": [
      "2\n",
      "3\n",
      "5\n",
      "7\n",
      "11\n"
     ]
    }
   ],
   "source": [
    "#  Write a program to display all prime numbers within a range\n",
    "start=1\n",
    "end=11\n",
    "for num in range(start,end+1):\n",
    "    if num>1:\n",
    "        for i in range(2,num):\n",
    "            if num%i==0:\n",
    "                break\n",
    "        else:\n",
    "             print(num)"
   ]
  },
  {
   "cell_type": "code",
   "execution_count": 42,
   "id": "8cb701d1",
   "metadata": {},
   "outputs": [
    {
     "name": "stdout",
     "output_type": "stream",
     "text": [
      "0\n",
      "1\n",
      "1\n",
      "2\n",
      "3\n",
      "5\n",
      "8\n",
      "13\n",
      "21\n",
      "34\n"
     ]
    }
   ],
   "source": [
    "# Display Fibonacci series up to 10 terms\n",
    "num1=0\n",
    "num2=1\n",
    "for i in range(1,11):\n",
    "    print(num1)\n",
    "    res=num1+num2\n",
    "    num1=num2\n",
    "    num2=res"
   ]
  },
  {
   "cell_type": "code",
   "execution_count": 44,
   "id": "e1a1b97d",
   "metadata": {},
   "outputs": [
    {
     "name": "stdout",
     "output_type": "stream",
     "text": [
      "5\n",
      "20\n",
      "60\n",
      "120\n",
      "120\n",
      "120\n"
     ]
    }
   ],
   "source": [
    "# Find the factorial of a given number\n",
    "num=5\n",
    "total=1\n",
    "for i in range(num,0,-1):\n",
    "    total=i*total\n",
    "#     print(total)\n",
    "print(total)"
   ]
  },
  {
   "cell_type": "code",
   "execution_count": 1,
   "id": "ef94c432",
   "metadata": {},
   "outputs": [
    {
     "name": "stdout",
     "output_type": "stream",
     "text": [
      "54321\n"
     ]
    }
   ],
   "source": [
    "#  Reverse a given integer number\n",
    "num=12345\n",
    "rev=0\n",
    "while num>0:\n",
    "    remainder=num%10\n",
    "    rev=remainder+rev*10\n",
    "#     print(rev)\n",
    "    num=num//10\n",
    "print(rev)"
   ]
  },
  {
   "cell_type": "code",
   "execution_count": 50,
   "id": "e74179ca",
   "metadata": {},
   "outputs": [
    {
     "name": "stdout",
     "output_type": "stream",
     "text": [
      "Number of alphabets: 35\n",
      "Number of numeric: 7\n",
      "Number of spaces: 8\n"
     ]
    }
   ],
   "source": [
    "# Homework\n",
    "# find out how many alphabets, numbers and spaces are there\n",
    "\n",
    "msg = \"an otp 8758 is sent to your mobile number\"\n",
    "alph=0\n",
    "num=0\n",
    "space=0\n",
    "for i in msg:\n",
    "    if i.isalpha():\n",
    "        alph=alph+1\n",
    "    elif i.isdigit():\n",
    "        num=num+1\n",
    "    elif i.isspace():\n",
    "        space=space+1\n",
    "\n",
    "print('Number of alphabets:',alph)\n",
    "print('Number of numeric:',num)\n",
    "print('Number of spaces:',space)"
   ]
  },
  {
   "cell_type": "code",
   "execution_count": 7,
   "id": "c874e20b",
   "metadata": {},
   "outputs": [
    {
     "name": "stdout",
     "output_type": "stream",
     "text": [
      "input the number:1\n",
      "input the number:2\n",
      "input the number:3\n",
      "input the number:4\n",
      "input the number:5\n",
      "input the number:0\n",
      "Average is: 3.0\n",
      "Total sum is: 15\n"
     ]
    }
   ],
   "source": [
    "\n",
    "count=0\n",
    "summ=0\n",
    "\n",
    "while True:\n",
    "    num=int(input('input the number:'))\n",
    "    if num==0:\n",
    "        print(\"Average is:\", Avg)\n",
    "        print(\"Total sum is:\",summ)\n",
    "        break    \n",
    "    summ=summ+num\n",
    "    count=count+1\n",
    "    Avg=summ/count\n",
    "   \n",
    "    "
   ]
  },
  {
   "cell_type": "code",
   "execution_count": null,
   "id": "c15d3f11",
   "metadata": {},
   "outputs": [],
   "source": [
    "\n",
    "count=0\n",
    "summ=0\n",
    "\n",
    "while True:\n",
    "    num=int(input('input the number:'))\n",
    "    if num==0:\n",
    "        break\n",
    "    else:\n",
    "        print(num)\n",
    "        summ=summ+num\n",
    "        count=count+1\n",
    "Avg=summ/count\n",
    "print(Avg)\n",
    "print(summ)\n",
    "    "
   ]
  },
  {
   "cell_type": "code",
   "execution_count": 8,
   "id": "6b4190c7",
   "metadata": {},
   "outputs": [
    {
     "name": "stdout",
     "output_type": "stream",
     "text": [
      "Input Mobile number9486802025\n"
     ]
    },
    {
     "data": {
      "text/plain": [
       "'137'"
      ]
     },
     "execution_count": 8,
     "metadata": {},
     "output_type": "execute_result"
    }
   ],
   "source": [
    "number=input(\"Input Mobile number\")\n",
    "finalstring=''\n",
    "for i in range(10):\n",
    "    if str(i) not in str(number):\n",
    "        finalstring=finalstring+str(i)\n",
    "finalstring"
   ]
  },
  {
   "cell_type": "code",
   "execution_count": 2,
   "id": "fdbd3b53",
   "metadata": {},
   "outputs": [
    {
     "name": "stdout",
     "output_type": "stream",
     "text": [
      "Hello World\n"
     ]
    }
   ],
   "source": [
    "def myfunc():\n",
    "    print('Hello World')\n",
    "\n",
    "myfunc()"
   ]
  },
  {
   "cell_type": "code",
   "execution_count": 1,
   "id": "b67d24af",
   "metadata": {},
   "outputs": [
    {
     "data": {
      "text/plain": [
       "{'M', 'i', 'p', 's'}"
      ]
     },
     "execution_count": 1,
     "metadata": {},
     "output_type": "execute_result"
    }
   ],
   "source": [
    "set('Mississippi')"
   ]
  },
  {
   "cell_type": "code",
   "execution_count": null,
   "id": "f454ee70",
   "metadata": {},
   "outputs": [],
   "source": [
    "# Resources for More Basic Practice\n",
    "# Before you begin your assessment, I wanted to point out some helpful links for practice (don't worry about being able to do these exercises, I just want you to be aware of the links so you can visit them later, since we still haven't discussed functions, you won't be able to utilize a lot of these resources yet!):\n",
    "\n",
    "# Basic Practice:\n",
    "\n",
    "# http://codingbat.com/python\n",
    "\n",
    "# More Mathematical (and Harder) Practice:\n",
    "\n",
    "# https://projecteuler.net/archives\n",
    "\n",
    "# List of Practice Problems:\n",
    "\n",
    "# http://www.codeabbey.com/index/task_list\n",
    "\n",
    "# A SubReddit Devoted to Daily Practice Problems:\n",
    "\n",
    "# https://www.reddit.com/r/dailyprogrammer\n",
    "\n",
    "# A very tricky website with very few hints and touch problems (Not for beginners but still interesting)\n",
    "\n",
    "# http://www.pythonchallenge.com/"
   ]
  },
  {
   "cell_type": "code",
   "execution_count": 12,
   "id": "021b95c0",
   "metadata": {},
   "outputs": [
    {
     "data": {
      "text/plain": [
       "[10, 20]"
      ]
     },
     "execution_count": 12,
     "metadata": {},
     "output_type": "execute_result"
    }
   ],
   "source": [
    "def myfunc(*args):\n",
    "    output=[]\n",
    "    for i in args:\n",
    "        if i % 2 ==0:\n",
    "            output.append(i)\n",
    "    return output     \n",
    "\n",
    "        \n",
    "    \n",
    "myfunc(10,20,11,5,3)"
   ]
  },
  {
   "cell_type": "code",
   "execution_count": 17,
   "id": "ce417104",
   "metadata": {},
   "outputs": [
    {
     "name": "stdout",
     "output_type": "stream",
     "text": [
      "['__add__', '__class__', '__contains__', '__delattr__', '__dir__', '__doc__', '__eq__', '__format__', '__ge__', '__getattribute__', '__getitem__', '__getnewargs__', '__gt__', '__hash__', '__init__', '__init_subclass__', '__iter__', '__le__', '__len__', '__lt__', '__mod__', '__mul__', '__ne__', '__new__', '__reduce__', '__reduce_ex__', '__repr__', '__rmod__', '__rmul__', '__setattr__', '__sizeof__', '__str__', '__subclasshook__', 'capitalize', 'casefold', 'center', 'count', 'encode', 'endswith', 'expandtabs', 'find', 'format', 'format_map', 'index', 'isalnum', 'isalpha', 'isascii', 'isdecimal', 'isdigit', 'isidentifier', 'islower', 'isnumeric', 'isprintable', 'isspace', 'istitle', 'isupper', 'join', 'ljust', 'lower', 'lstrip', 'maketrans', 'partition', 'removeprefix', 'removesuffix', 'replace', 'rfind', 'rindex', 'rjust', 'rpartition', 'rsplit', 'rstrip', 'split', 'splitlines', 'startswith', 'strip', 'swapcase', 'title', 'translate', 'upper', 'zfill']\n"
     ]
    }
   ],
   "source": [
    "x=dir(str)\n",
    "print(x)"
   ]
  },
  {
   "cell_type": "code",
   "execution_count": 20,
   "id": "33869b56",
   "metadata": {},
   "outputs": [
    {
     "data": {
      "text/plain": [
       "'hELLOWORD'"
      ]
     },
     "execution_count": 20,
     "metadata": {},
     "output_type": "execute_result"
    }
   ],
   "source": [
    "def myfunc(a):\n",
    "    string= a.swapcase()\n",
    "    return string\n",
    "\n",
    "myfunc('Helloword')"
   ]
  },
  {
   "cell_type": "code",
   "execution_count": 23,
   "id": "2d5bbfff",
   "metadata": {},
   "outputs": [
    {
     "data": {
      "text/plain": [
       "'DcAsIrEtS'"
      ]
     },
     "execution_count": 23,
     "metadata": {},
     "output_type": "execute_result"
    }
   ],
   "source": [
    "def myfunc(a):\n",
    "    result=''\n",
    "    for i in range(0,len(a)):\n",
    "        if i% 2==0:\n",
    "            result=result+ a[i].upper()\n",
    "            \n",
    "        else:\n",
    "            result=result+ a[i].lower()\n",
    "       \n",
    "    return result\n",
    "myfunc('dCasiRETs')"
   ]
  },
  {
   "cell_type": "code",
   "execution_count": null,
   "id": "c67963bf",
   "metadata": {},
   "outputs": [],
   "source": [
    "# Extract the Mobil number\n",
    "\n",
    "msg = \"\"\"A customer buys product from ABC company where you can reach via company@gmail.com and company@yahoo.in \n",
    "            also you can connect via 9874545452 and 011-84521476\"\"\"\n",
    "\n",
    "re.findall(r)"
   ]
  },
  {
   "cell_type": "code",
   "execution_count": null,
   "id": "ab3f6cb2",
   "metadata": {},
   "outputs": [],
   "source": [
    "# Random Numbers\n",
    "# import random"
   ]
  },
  {
   "cell_type": "code",
   "execution_count": 1,
   "id": "e8069b3c",
   "metadata": {},
   "outputs": [
    {
     "name": "stdout",
     "output_type": "stream",
     "text": [
      "7\n",
      "7\n",
      "10\n"
     ]
    }
   ],
   "source": [
    "import random\n",
    "print( random.randint(1, 10) )\n",
    "print( random.randint(1, 10) )\n",
    "print( random.randint(1, 10) )"
   ]
  },
  {
   "cell_type": "code",
   "execution_count": 3,
   "id": "d4beda34",
   "metadata": {},
   "outputs": [
    {
     "name": "stdout",
     "output_type": "stream",
     "text": [
      "4\n",
      "6\n",
      "8\n"
     ]
    }
   ],
   "source": [
    "import random\n",
    "random.seed(111)\n",
    "print( random.randint(1, 10) )\n",
    "print( random.randint(1, 10) )\n",
    "print( random.randint(1, 10) )"
   ]
  },
  {
   "cell_type": "code",
   "execution_count": 4,
   "id": "8b0c9e46",
   "metadata": {},
   "outputs": [
    {
     "name": "stdout",
     "output_type": "stream",
     "text": [
      "7\n",
      "9\n",
      "9\n"
     ]
    }
   ],
   "source": [
    "import random\n",
    "random.seed(44)\n",
    "print( random.randint(1, 10) )\n",
    "print( random.randint(1, 10) )\n",
    "print( random.randint(1, 10) )"
   ]
  },
  {
   "cell_type": "code",
   "execution_count": 6,
   "id": "813a8762",
   "metadata": {},
   "outputs": [
    {
     "name": "stdout",
     "output_type": "stream",
     "text": [
      "['__add__', '__class__', '__contains__', '__delattr__', '__dir__', '__doc__', '__eq__', '__format__', '__ge__', '__getattribute__', '__getitem__', '__getnewargs__', '__gt__', '__hash__', '__init__', '__init_subclass__', '__iter__', '__le__', '__len__', '__lt__', '__mod__', '__mul__', '__ne__', '__new__', '__reduce__', '__reduce_ex__', '__repr__', '__rmod__', '__rmul__', '__setattr__', '__sizeof__', '__str__', '__subclasshook__', 'capitalize', 'casefold', 'center', 'count', 'encode', 'endswith', 'expandtabs', 'find', 'format', 'format_map', 'index', 'isalnum', 'isalpha', 'isascii', 'isdecimal', 'isdigit', 'isidentifier', 'islower', 'isnumeric', 'isprintable', 'isspace', 'istitle', 'isupper', 'join', 'ljust', 'lower', 'lstrip', 'maketrans', 'partition', 'removeprefix', 'removesuffix', 'replace', 'rfind', 'rindex', 'rjust', 'rpartition', 'rsplit', 'rstrip', 'split', 'splitlines', 'startswith', 'strip', 'swapcase', 'title', 'translate', 'upper', 'zfill']\n"
     ]
    }
   ],
   "source": [
    "x=dir(str)\n",
    "print(x)"
   ]
  },
  {
   "cell_type": "code",
   "execution_count": null,
   "id": "26c87dda",
   "metadata": {},
   "outputs": [],
   "source": []
  }
 ],
 "metadata": {
  "kernelspec": {
   "display_name": "Python 3 (ipykernel)",
   "language": "python",
   "name": "python3"
  },
  "language_info": {
   "codemirror_mode": {
    "name": "ipython",
    "version": 3
   },
   "file_extension": ".py",
   "mimetype": "text/x-python",
   "name": "python",
   "nbconvert_exporter": "python",
   "pygments_lexer": "ipython3",
   "version": "3.9.13"
  }
 },
 "nbformat": 4,
 "nbformat_minor": 5
}
